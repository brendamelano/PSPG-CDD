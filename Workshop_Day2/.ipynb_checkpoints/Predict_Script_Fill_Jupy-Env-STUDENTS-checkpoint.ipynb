{
 "cells": [
  {
   "cell_type": "code",
   "execution_count": null,
   "metadata": {},
   "outputs": [],
   "source": [
    "cd YOUR_WORKSHOP_DIRECTORY_HERE"
   ]
  },
  {
   "cell_type": "markdown",
   "metadata": {},
   "source": [
    "### Import Modules"
   ]
  },
  {
   "cell_type": "code",
   "execution_count": 1,
   "metadata": {},
   "outputs": [
    {
     "data": {
      "text/html": [
       "<style>.container {width:85% !important;} </style>"
      ],
      "text/plain": [
       "<IPython.core.display.HTML object>"
      ]
     },
     "metadata": {},
     "output_type": "display_data"
    }
   ],
   "source": [
    "# Jupyter Display\n",
    "from IPython.core.display import display,HTML\n",
    "display(HTML(\"<style>.container {width:85% !important;} </style>\"))\n",
    "\n",
    "# I/O tools\n",
    "import os,sys\n",
    "import gzip\n",
    "import csv\n",
    "\n",
    "# Standard Python Tools\n",
    "import operator\n",
    "\n",
    "# Custom functions\n",
    "from utils import map_target_identifiers, flatten_list, view_target_dist\n",
    "\n",
    "# Data handling modules\n",
    "import numpy as np\n",
    "import pandas as pd\n",
    "\n",
    "# Sklearn Modules\n",
    "from sklearn.naive_bayes import BernoulliNB\n",
    "from sklearn.naive_bayes import MultinomialNB\n",
    "\n",
    "# Chemical Handling Modules\n",
    "from rdkit import Chem\n",
    "from rdkit.Chem import AllChem\n",
    "\n",
    "# Vizualization Modules\n",
    "%matplotlib notebook\n",
    "import matplotlib.pyplot as plt\n",
    "import seaborn as sns"
   ]
  },
  {
   "cell_type": "markdown",
   "metadata": {},
   "source": [
    "### Default Values"
   ]
  },
  {
   "cell_type": "code",
   "execution_count": 2,
   "metadata": {},
   "outputs": [],
   "source": [
    "#Python Pandas print options\n",
    "pd.set_option('display.width', 1000)\n",
    "pd.set_option('precision', 3)\n",
    "pd.set_option('max_rows', 15)\n",
    "pd.set_option('large_repr', 'truncate')\n",
    "pd.set_option('max_colwidth', 40)\n",
    "pd.set_option('colheader_justify', 'left')\n",
    "\n",
    "\n",
    "# Default Directories\n",
    "BASE_DIR = os.getcwd()\n",
    "\n",
    "# Default Files\n",
    "CANCER_CPDS_F = os.path.join(BASE_DIR, 'cancer_compounds.sample.csv')\n",
    "CHEMBL_MOLS_F = os.path.join(BASE_DIR, 'chembl_21_binding_molecules.csv.gz')\n",
    "CHEMBL_TARGS_F = os.path.join(BASE_DIR, 'chembl_21_binding_targets.csv.gz')"
   ]
  },
  {
   "cell_type": "markdown",
   "metadata": {},
   "source": [
    "### Primary Functions"
   ]
  },
  {
   "cell_type": "code",
   "execution_count": 1,
   "metadata": {},
   "outputs": [],
   "source": [
    "def gen_compound_bitstring(smile, radius=?, nBits=1024):\n",
    "    \"\"\"Generates Morgan-fingerprint from compound smile, converts fingerprint to bit-vector, and returns bit-vector.\"\"\"\n",
    "    ? = Chem.MolFromSmiles(?)\n",
    "    if mol is None:\n",
    "        return None\n",
    "    fp = AllChem.GetMorganFingerprintAsBitVect(mol, ?, ?)\n",
    "    bstr = fp.ToBitString()\n",
    "    return ?"
   ]
  },
  {
   "cell_type": "code",
   "execution_count": 4,
   "metadata": {},
   "outputs": [],
   "source": [
    "#### THIS FUNCTION DOES NOT NEED TO BE ALTERED  ####\n",
    "def predict_top_targets_for_compounds(cpd_f, classifier, targID_to_targName, ntop=10, verbose=True):\n",
    "    \"\"\"Load compounds of interest, convert to fp, get top N target predictions for each compound,\n",
    "    and write to file.\"\"\"\n",
    "    base_dir = os.path.dirname(cpd_f)\n",
    "    base_name = os.path.basename(cpd_f).split('.csv')[0]\n",
    "    res_ofn = os.path.join(base_dir, base_name+'.predictions.csv')\n",
    "    header = ['Zinc_ID', 'Targ_ID', 'Targ_Class', 'Probability_Estimate', 'Drug_Name', 'Smile']\n",
    "    \n",
    "    # Initiate csv reader and writer\n",
    "    with open(cpd_f, 'r') as fi, open(res_ofn, 'w') as fo:\n",
    "        reader = csv.reader(fi)\n",
    "        reader.next()\n",
    "        writer = csv.writer(fo)\n",
    "        writer.writerow(header)\n",
    "        \n",
    "        # Iterate through cpd_f, generate compound bit-vectors\n",
    "        for cpid, smile, drugname in reader:\n",
    "            bstr = gen_compound_bitstring(smile)\n",
    "            if bstr is None:\n",
    "                continue\n",
    "            temp = np.frombuffer(bstr, 'i1') - 48\n",
    "            bitVec = temp.reshape(1, -1)\n",
    "            \n",
    "            # Generate array of probabilites for bitVec belonging to each target class\n",
    "            probabilities = classifier.predict_proba(bitVec)\n",
    "            target_probs = zip(classifier.classes_, probabilities[0])\n",
    "            \n",
    "            # Sort by most relevant targets, and write top N targets associated with bitVec to file\n",
    "            top_targs = sorted(target_probs, key=operator.itemgetter(1), reverse=True)\n",
    "            if verbose:\n",
    "                toprint = [(targID_to_targName[targID], prob) for targID,prob in top_targs[0:ntop]]\n",
    "                print('{}: '.format(cpid), toprint)\n",
    "                print('')\n",
    "            for targID, prob in top_targs[0:ntop]:\n",
    "                writer.writerow([cpid, targID, targID_to_targName[targID], prob, drugname, smile])\n",
    "    return res_ofn"
   ]
  },
  {
   "cell_type": "code",
   "execution_count": 5,
   "metadata": {},
   "outputs": [],
   "source": [
    "def gen_naive_bayes_classifier(training_data, training_classes, Bernoulli=True):\n",
    "    \"\"\"Generate an instance of a Naive Bayesian classifier, based on either multivariate Bernoulli distributions or \n",
    "    multinomially distributed data. As our training_data consists of binomial input, the Bernoulli Model seems optimal.\"\"\"\n",
    "    if Bernoulli:\n",
    "        print('Initiating Bernoulli Naive Bayesian Classifier')\n",
    "        classifier = ?\n",
    "        print('\\tFitting classifier to training data...')\n",
    "        classifier.fit(training_data, training_classes)\n",
    "    else:\n",
    "        print('Initiating Multinomial Naive Bayesian Classifier')\n",
    "        classifier = ?\n",
    "        print('\\tFitting classifier to training data...')\n",
    "        classifier.fit(?, ?)\n",
    "    print('\\tClassifier training complete!')\n",
    "    print('')\n",
    "    return classifier"
   ]
  },
  {
   "cell_type": "code",
   "execution_count": 6,
   "metadata": {},
   "outputs": [],
   "source": [
    "#### THIS FUNCTION DOES NOT NEED TO BE ALTERED  ####\n",
    "def format_training_data_for_naive_bayes(chembl_mol_f, chembl_targ_f):\n",
    "    \"\"\"Returns nDim array of bit-vectorized molecules (x-values) and corresponding nDim array of target classes\n",
    "    that each bit-vector is assigned to (y-values).\"\"\"\n",
    "    bayes_XY_fields = []\n",
    "    cpid_to_bitVec = {} # cpid = compound chembl_ID\n",
    "    \n",
    "    print('Formatting training data for use with Naive Bayesian Classifier...')\n",
    "    with gzip.open(chembl_mol_f, 'r') as mol_fi, gzip.open(chembl_targ_f, 'r') as targ_fi:\n",
    "        # Iterate through mol_file, transform smile to bit-vector, map cpid to its corresponding bit-vector\n",
    "        mol_reader = csv.reader(mol_fi)\n",
    "        mol_reader.next() # circumvent file header\n",
    "        print('\\tTransforming cpd smiles to bit-vectors from file: {}'.format(os.path.basename(chembl_mol_f)))\n",
    "        for cpid, smi, fp in mol_reader:\n",
    "            bitVec = np.frombuffer(fp, 'i1') - 48 # creates numpy array from string of 0's and 1's\n",
    "            cpid_to_bitVec[cpid] = bitVec\n",
    "        print('\\t\\tGenerated {} compound bit-vectors'.format(len(cpid_to_bitVec)))\n",
    "        \n",
    "        # Iterate through targ_file, get all compounds (bitVector) associated with each target, format for bayes learning.\n",
    "        targ_reader = csv.reader(targ_fi)\n",
    "        targ_reader.next()\n",
    "        print(\"\\tMapping target classes to compound bit-vectors from file: {}\".format(os.path.basename(chembl_targ_f)))\n",
    "        for targID, uniprotID, cpd_assocs, targ_desc in targ_reader:\n",
    "            for cpid in cpd_assocs.split(':'):\n",
    "                if cpid in cpid_to_bitVec:\n",
    "                    bitVec = cpid_to_bitVec[cpid]\n",
    "                    bayes_XY_fields.append((bitVec, targID))\n",
    "    \n",
    "    # Return xvalues (bit-Vectors for each compound), and yvalues (class label of target each compound is associated with)\n",
    "    xvals, yvals = zip(*bayes_XY_fields)\n",
    "    print('\\t\\tGenerated {} total training examples.'.format(len(xvals)))\n",
    "    print('')\n",
    "    return xvals, yvals"
   ]
  },
  {
   "cell_type": "code",
   "execution_count": 7,
   "metadata": {},
   "outputs": [],
   "source": [
    "def predict_targets(cancer_cpds_f, chembl_mol_f, chembl_targ_f, ntop=5, Bernoulli=True, verbose=False):\n",
    "    \"\"\"Maps targets, formats data, trains a naive bayesian classifier, then predicts and plots top targets, \n",
    "    based on cancer-related compounds file provided\"\"\"\n",
    "    chid_to_targName = map_target_identifiers(chembl_targ_f)\n",
    "    training_data, training_classes = format_training_data_for_naive_bayes(chembl_mol_f, ?)\n",
    "    classifier = gen_naive_bayes_classifier(?, training_classes, Bernoulli=?)\n",
    "    preds_f = predict_top_targets_for_compounds(?, ?, chid_to_targName, ntop=ntop, verbose=verbose)\n",
    "    view_target_dist(?, figsize=(18,12))\n",
    "    return preds_f"
   ]
  },
  {
   "cell_type": "markdown",
   "metadata": {},
   "source": [
    "Fix the above functions so that our handler function below will work.\n",
    "\n",
    "**Note_1:** Not all the functions need to be adjusted. Those that work as is, have a comment above mentioning the function does not need to be altered.\n",
    "\n",
    "**Note_2:** You do not have to alter the functions in Jupyter. It's just a convenient environment for testing. The actual script.py have command line interfaces so that it is easier for you to run the scripts on multiple files. Those command line arguments (argparse) will not work in Jupyter.\n",
    "\n",
    "**Note_3:** The Jupyter notebook stores all variables created in memory unless explicitely deleted. Thus if you name a variable something and change the name in the same cell, the original variable will STILL be there. This can cause problems if you forget to change all instances of the initial variable later in your script. The easiest way to not worry about this is to restart the kernel, which will flush the memory. However you will have to reload every cell again.\n",
    "\n",
    "**Note_4:** Ask questions!"
   ]
  },
  {
   "cell_type": "code",
   "execution_count": 9,
   "metadata": {},
   "outputs": [
    {
     "name": "stdout",
     "output_type": "stream",
     "text": [
      "Mapping target chembl_IDs to human-readable Names...\n",
      "\tMapped 2240 chembl_IDs\n",
      "\n",
      "Formatting training data for use with Naive Bayesian Classifier...\n",
      "\tTransforming cpd smiles to bit-vectors from file: chembl_21_binding_molecules.csv.gz\n",
      "\t\tGenerated 334291 compound bit-vectors\n",
      "\tMapping target classes to compound bit-vectors from file: chembl_21_binding_targets.csv.gz\n",
      "\t\tGenerated 1372818 total training examples.\n",
      "\n",
      "Initiating Bernoulli Naive Bayesian Classifier\n",
      "\tFitting classifier to training data...\n",
      "\tClassifier training complete!\n",
      "\n",
      "('ZINC602803: ', [('ERBB4_HUMAN', 0.9999818249353424), ('BLK_HUMAN', 1.3744002811141147e-05), ('Epidermal growth factor receptor and ErbB2 (HER1 and HER2)', 1.6029738184153858e-06), ('EGFR_HUMAN', 1.099579120776668e-06), ('M3K8_HUMAN', 8.201514992116136e-07)])\n",
      "\n",
      "('ZINC1493878: ', [('RAF1_HUMAN', 1.0), ('BRAF_HUMAN', 9.994473082512853e-22), ('DDR2_HUMAN', 6.559712927090685e-23), ('PGFRA_HUMAN', 2.641276185853674e-24), ('VGFR2_HUMAN', 1.969593419137434e-24)])\n",
      "\n",
      "('ZINC1546066: ', [('EGFR_HUMAN', 0.9999996847105237), ('ERBB2_HUMAN', 3.1412456305521717e-07), ('PGFRB_HUMAN', 6.138995354579948e-10), ('MKNK1_HUMAN', 5.08605485643321e-10), ('ERBB4_HUMAN', 2.571447273512885e-11)])\n",
      "\n",
      "('ZINC2047743: ', [('SRC_CHICK', 0.8466997351020347), ('PGFRB_MOUSE', 0.11076398805399564), ('SRC_MOUSE', 0.03952560458138837), ('Fibroblast growth factor receptor', 0.003001944588044115), ('Platelet-derived growth factor receptor', 8.709395369735827e-06)])\n",
      "\n",
      "('ZINC3816287: ', [('PLK4_HUMAN', 0.9924381395116226), ('AURKC_HUMAN', 0.004012870578871674), ('STK16_HUMAN', 0.0024867418603326925), ('TNK1_HUMAN', 0.00018742632534097064), ('TIE1_HUMAN', 0.00018036987477179132)])\n",
      "\n",
      "('ZINC3964325: ', [('KIT_HUMAN', 0.25231051265912474), ('RET_HUMAN', 0.22895755049504482), ('PGFRB_HUMAN', 0.20063049173600642), ('VGFR1_MOUSE', 0.09475965931034712), ('PHKG2_HUMAN', 0.08882985873644919)])\n",
      "\n",
      "('ZINC3781738: ', [('M3K9_HUMAN', 0.5925736972361757), ('M3K11_HUMAN', 0.23970272448682423), ('Protein kinase C (PKC)', 0.1395515264667821), ('M3K10_HUMAN', 0.028161032781302837), ('Protein kinase C (PKC)', 1.1018887444911708e-05)])\n",
      "\n",
      "('ZINC3814434: ', [('Protein kinase C (PKC)', 1.0), ('M3K9_HUMAN', 4.796938750580667e-18), ('M3K10_HUMAN', 2.5919304033745395e-18), ('M3K11_HUMAN', 1.261208676309716e-18), ('cAMP-dependent protein kinase (PKA)', 3.151175082653264e-19)])\n",
      "\n",
      "('ZINC6716957: ', [('DDR2_HUMAN', 0.9977297456325576), ('LYN_HUMAN', 0.0022682173663120795), ('DDR1_HUMAN', 2.0106933184432165e-06), ('ABL1_HUMAN', 2.6018144517250134e-08), ('EPHB2_HUMAN', 1.9097288189561915e-10)])\n",
      "\n",
      "('ZINC19632618: ', [('LYN_HUMAN', 0.7370058053583424), ('ABL1_HUMAN', 0.11969510404495634), ('DDR2_HUMAN', 0.07554550775918703), ('ABL2_HUMAN', 0.06087483113981921), ('DDR1_HUMAN', 0.006878501383281743)])\n",
      "\n",
      "('ZINC19862646: ', [('YES_HUMAN', 0.9737204594381755), ('ACK1_HUMAN', 0.025144608238757013), ('TIE1_HUMAN', 0.0006013435479185472), ('FGR_HUMAN', 0.00012282550412711586), ('FYN_HUMAN', 0.00010482690470185)])\n",
      "\n",
      "('ZINC105309: ', [('TOP1_HUMAN', 1.0), ('S47A1_HUMAN', 3.855017112228938e-35), ('HIF1A_HUMAN', 2.664480688680633e-35), ('CNR2_HUMAN', 1.5787306588123537e-35), ('KCNH2_HUMAN', 6.2901026448527e-36)])\n",
      "\n",
      "('ZINC1611274: ', [('TOP1_HUMAN', 1.0), ('S47A1_HUMAN', 5.757313863296177e-32), ('HIF1A_HUMAN', 8.181598384766002e-37), ('KCNH2_HUMAN', 6.99625244830432e-42), ('PPARG_MOUSE', 9.372555594662847e-43)])\n",
      "\n",
      "('ZINC3872327: ', [('Estrogen receptor', 0.999999232769038), ('AURKB_HUMAN', 7.435498430937546e-07), ('VGFR2_HUMAN', 2.0249373761041542e-08), ('HDAC1_HUMAN', 8.861041712380332e-10), ('KIT_HUMAN', 5.840661072040785e-10)])\n",
      "\n",
      "('ZINC3946372: ', [('TOP1_MOUSE', 0.999998400151015), ('TOP1_HUMAN', 1.5998489890109596e-06), ('CDD_MOUSE', 3.512621830422291e-42), ('CDD_HUMAN', 3.3932279623624646e-43), ('RK_HUMAN', 3.399296546839885e-45)])\n",
      "\n",
      "('ZINC4023694: ', [('ACES_ELEEL', 0.9940747358389259), ('HS90B_HUMAN', 0.0027087613483917474), ('Q9N1N9_HORSE', 0.0008592014501618304), ('TBA1A_PIG', 0.0006865921601949295), ('HS90A_HUMAN', 0.0006370969852229888)])\n",
      "\n",
      "('ZINC22010625: ', [('TOP1_HUMAN', 1.0), ('S47A1_HUMAN', 2.5542301404983344e-31), ('S22A2_HUMAN', 2.5575980844560038e-37), ('HIF1A_HUMAN', 6.832595285754442e-39), ('KCNH2_HUMAN', 4.897439599620983e-39)])\n",
      "\n",
      "('ZINC3872170: ', [('ANDR_HUMAN', 0.4552269385133005), ('SGMR1_HUMAN', 0.37642222563039124), ('5HT2B_HUMAN', 0.08231959425149374), ('DHI1_HUMAN', 0.03539244885466098), ('OPRX_HUMAN', 0.01085670803222422)])\n",
      "\n",
      "('ZINC3929132: ', [('FKB1A_HUMAN', 0.9999998372425684), ('PPCE_PIG', 1.6274768796785653e-07), ('PPCE_HUMAN', 5.703418737928881e-12), ('ACE_RABIT', 1.690903645380957e-12), ('FKB1A_RAT', 1.2938060257966067e-12)])\n",
      "\n",
      "('ZINC9095354: ', [('CAN1_PIG', 0.5986277742966689), ('MMP3_HUMAN', 0.4010943044947189), ('MMP2_HUMAN', 0.00017072771012329363), ('MMP1_HUMAN', 4.637537402084913e-05), ('MMP8_HUMAN', 3.7197447668823374e-05)])\n",
      "\n",
      "('ZINC3945332: ', [('FKB1A_HUMAN', 0.9999999999999716), ('FKBP5_HUMAN', 2.2316605478062462e-14), ('PTAFR_HUMAN', 9.378436052248165e-19), ('FKBP4_HUMAN', 3.4753908443545635e-21), ('ACHA7_HUMAN', 2.7410535100861994e-21)])\n",
      "\n",
      "('ZINC3532816: ', [('MMP7_HUMAN', 0.5175545147289208), ('MMP1_HUMAN', 0.14367981863174023), ('MMP3_HUMAN', 0.13678003734085156), ('CAN1_PIG', 0.07792586554752981), ('MMP8_HUMAN', 0.06858243035778083)])\n",
      "\n",
      "('ZINC29222259: ', [('CAN1_PIG', 0.9942804023810338), ('MMP3_HUMAN', 0.005692047326745273), ('MMP8_HUMAN', 1.3450178126884233e-05), ('MMP1_HUMAN', 7.5930729760343205e-06), ('MMP7_HUMAN', 3.5185153442300123e-06)])\n",
      "\n"
     ]
    },
    {
     "data": {
      "image/png": "[encoded data removed]",
      "text/plain": [
       "<Figure size 1296x864 with 1 Axes>"
      ]
     },
     "metadata": {
      "needs_background": "light"
     },
     "output_type": "display_data"
    }
   ],
   "source": [
    "preds_f = predict_targets(CANCER_CPDS_F, CHEMBL_MOLS_F, CHEMBL_TARGS_F, ntop=?, Bernoulli=?, verbose=True)"
   ]
  },
  {
   "cell_type": "code",
   "execution_count": null,
   "metadata": {},
   "outputs": [],
   "source": []
  }
 ],
 "metadata": {
  "kernelspec": {
   "display_name": "Python [conda env:comp_drug_disc]",
   "language": "python",
   "name": "conda-env-comp_drug_disc-py"
  },
  "language_info": {
   "codemirror_mode": {
    "name": "ipython",
    "version": 2
   },
   "file_extension": ".py",
   "mimetype": "text/x-python",
   "name": "python",
   "nbconvert_exporter": "python",
   "pygments_lexer": "ipython2",
   "version": "2.7.15"
  }
 },
 "nbformat": 4,
 "nbformat_minor": 1
}
